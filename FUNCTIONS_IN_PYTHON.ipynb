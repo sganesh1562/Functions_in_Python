{
  "nbformat": 4,
  "nbformat_minor": 0,
  "metadata": {
    "colab": {
      "name": "FUNCTIONS_IN_PYTHON.ipynb",
      "provenance": []
    },
    "kernelspec": {
      "name": "python3",
      "display_name": "Python 3"
    },
    "language_info": {
      "name": "python"
    }
  },
  "cells": [
    {
      "cell_type": "markdown",
      "metadata": {
        "id": "NK6W-53VAxKR"
      },
      "source": [
        "Create a function to add two numbers"
      ]
    },
    {
      "cell_type": "code",
      "metadata": {
        "id": "NhOoeBEe87q5"
      },
      "source": [
        "def add(a,b): #def--->define and is a keyword in PYTHON\n",
        "\n",
        "  c=a+b\n",
        "\n",
        "  print(c)"
      ],
      "execution_count": 5,
      "outputs": []
    },
    {
      "cell_type": "code",
      "metadata": {
        "colab": {
          "base_uri": "https://localhost:8080/"
        },
        "id": "ntNpJseCA5N1",
        "outputId": "49abb7af-cbe0-4003-c63a-150baf24b0ab"
      },
      "source": [
        "add(4,8)"
      ],
      "execution_count": 6,
      "outputs": [
        {
          "output_type": "stream",
          "text": [
            "12\n"
          ],
          "name": "stdout"
        }
      ]
    },
    {
      "cell_type": "code",
      "metadata": {
        "colab": {
          "base_uri": "https://localhost:8080/"
        },
        "id": "yTcC_9DHA7qK",
        "outputId": "fcb9d91c-2681-41d6-81ed-9caa02b34c2f"
      },
      "source": [
        "add(78,90)"
      ],
      "execution_count": 7,
      "outputs": [
        {
          "output_type": "stream",
          "text": [
            "168\n"
          ],
          "name": "stdout"
        }
      ]
    },
    {
      "cell_type": "code",
      "metadata": {
        "colab": {
          "base_uri": "https://localhost:8080/"
        },
        "id": "vmQAwS7HA84I",
        "outputId": "30eaf101-8e3e-4cfb-b2c3-27cbf1b63dc1"
      },
      "source": [
        "add(34,56)"
      ],
      "execution_count": 8,
      "outputs": [
        {
          "output_type": "stream",
          "text": [
            "90\n"
          ],
          "name": "stdout"
        }
      ]
    },
    {
      "cell_type": "markdown",
      "metadata": {
        "id": "nmKycP4SBPuG"
      },
      "source": [
        "Create a function which multiplies and divides two numbers"
      ]
    },
    {
      "cell_type": "code",
      "metadata": {
        "id": "f-T2Hp5kA-EK"
      },
      "source": [
        "def compute(a,b):\n",
        "\n",
        "  m=a*b\n",
        "\n",
        "  d=a/b\n",
        "\n",
        "  print(m,d)"
      ],
      "execution_count": 9,
      "outputs": []
    },
    {
      "cell_type": "code",
      "metadata": {
        "colab": {
          "base_uri": "https://localhost:8080/"
        },
        "id": "2FJxPOA2DbQl",
        "outputId": "f26d8bec-00ec-4b26-cfd0-54df63e589b8"
      },
      "source": [
        "compute(5,8)"
      ],
      "execution_count": 10,
      "outputs": [
        {
          "output_type": "stream",
          "text": [
            "40 0.625\n"
          ],
          "name": "stdout"
        }
      ]
    },
    {
      "cell_type": "markdown",
      "metadata": {
        "id": "9JMzn5hcBQPZ"
      },
      "source": [
        "Create a function which takes name and age of a person as input ad display the name of the person"
      ]
    },
    {
      "cell_type": "code",
      "metadata": {
        "id": "e7i0avCaBpGa"
      },
      "source": [
        "def info(name,age):\n",
        "  print('the name is',name)"
      ],
      "execution_count": 12,
      "outputs": []
    },
    {
      "cell_type": "code",
      "metadata": {
        "colab": {
          "base_uri": "https://localhost:8080/"
        },
        "id": "yf-ABogvDpME",
        "outputId": "b12dc7ee-91f0-4248-a35b-fd7da8be6d83"
      },
      "source": [
        "info('rohit',32)"
      ],
      "execution_count": 13,
      "outputs": [
        {
          "output_type": "stream",
          "text": [
            "the name is rohit\n"
          ],
          "name": "stdout"
        }
      ]
    },
    {
      "cell_type": "code",
      "metadata": {
        "colab": {
          "base_uri": "https://localhost:8080/"
        },
        "id": "RnX1ND2JDy0B",
        "outputId": "a8382df7-1d5b-4d8d-e1cd-0db881ad50c7"
      },
      "source": [
        "info('meera',26)"
      ],
      "execution_count": 14,
      "outputs": [
        {
          "output_type": "stream",
          "text": [
            "the name is meera\n"
          ],
          "name": "stdout"
        }
      ]
    },
    {
      "cell_type": "markdown",
      "metadata": {
        "id": "KFgWZrUBEBPS"
      },
      "source": [
        "Create a function which takes name and age of a person as input ad display the age of the person. Incase the age is not given by the user, display the default age as 25years"
      ]
    },
    {
      "cell_type": "code",
      "metadata": {
        "id": "-0fkBPq6D4Zy"
      },
      "source": [
        "def info(name,age='25'):\n",
        "  print('age of the person is',age,'years')"
      ],
      "execution_count": 19,
      "outputs": []
    },
    {
      "cell_type": "code",
      "metadata": {
        "colab": {
          "base_uri": "https://localhost:8080/"
        },
        "id": "GL3TqU8pEi0S",
        "outputId": "f139d13d-e9fc-408f-e5ad-662316a3c80e"
      },
      "source": [
        "info('akash')"
      ],
      "execution_count": 21,
      "outputs": [
        {
          "output_type": "stream",
          "text": [
            "age of the person is 25 years\n"
          ],
          "name": "stdout"
        }
      ]
    },
    {
      "cell_type": "code",
      "metadata": {
        "colab": {
          "base_uri": "https://localhost:8080/"
        },
        "id": "f_wsm550Emdt",
        "outputId": "60c91676-b14b-4279-bead-78d25969aad8"
      },
      "source": [
        "info('sheena',21)"
      ],
      "execution_count": 23,
      "outputs": [
        {
          "output_type": "stream",
          "text": [
            "age of the person is 21 years\n"
          ],
          "name": "stdout"
        }
      ]
    },
    {
      "cell_type": "markdown",
      "metadata": {
        "id": "BqWng4AzFDzy"
      },
      "source": [
        "Create a function which takes name and salary of a person as input ad display the salary of the person. Incase salary is not mentioned, display 10000 as default salary"
      ]
    },
    {
      "cell_type": "code",
      "metadata": {
        "id": "Y238lfyiE6Yx"
      },
      "source": [
        "def data(name,salary=10000):\n",
        "  print('salary is',salary,'rupees')"
      ],
      "execution_count": 24,
      "outputs": []
    },
    {
      "cell_type": "code",
      "metadata": {
        "colab": {
          "base_uri": "https://localhost:8080/"
        },
        "id": "otTigzYQF5iw",
        "outputId": "566ce51f-a6da-4b4d-ab84-ff904d77eba4"
      },
      "source": [
        "data('john',20000)"
      ],
      "execution_count": 25,
      "outputs": [
        {
          "output_type": "stream",
          "text": [
            "salary is 20000 rupees\n"
          ],
          "name": "stdout"
        }
      ]
    },
    {
      "cell_type": "code",
      "metadata": {
        "colab": {
          "base_uri": "https://localhost:8080/"
        },
        "id": "0ijhVv4PF8lg",
        "outputId": "598830fb-08ee-448e-9f9f-7f0aa337e841"
      },
      "source": [
        "data('michel')"
      ],
      "execution_count": 26,
      "outputs": [
        {
          "output_type": "stream",
          "text": [
            "salary is 10000 rupees\n"
          ],
          "name": "stdout"
        }
      ]
    },
    {
      "cell_type": "markdown",
      "metadata": {
        "id": "GlzQ-qBLGGUb"
      },
      "source": [
        "Types of Arguments:\n",
        "\n",
        "1. Arbitrary Arguments\n",
        "\n",
        "2. Keyword Arguments\n",
        "\n",
        "3. Arbitrary Keyword Arguments"
      ]
    },
    {
      "cell_type": "code",
      "metadata": {
        "id": "IH2eznSLF_t0"
      },
      "source": [
        "#arbitrary arguments\n",
        "def func1(*child):\n",
        "  print(\"youngest child is\",child[2])"
      ],
      "execution_count": 27,
      "outputs": []
    },
    {
      "cell_type": "code",
      "metadata": {
        "colab": {
          "base_uri": "https://localhost:8080/"
        },
        "id": "CT7AqTplJLST",
        "outputId": "13df42db-1463-44c2-d644-952d47b16522"
      },
      "source": [
        "func1('Joseph','Michel','Meera','Sheena','George')"
      ],
      "execution_count": 28,
      "outputs": [
        {
          "output_type": "stream",
          "text": [
            "youngest child is Meera\n"
          ],
          "name": "stdout"
        }
      ]
    },
    {
      "cell_type": "code",
      "metadata": {
        "id": "udo7P7z4JR_6"
      },
      "source": [
        "#keyword arguments\n",
        "def func2(child2,child1,child3):\n",
        "  print(\"youngest child is\",child3)"
      ],
      "execution_count": 29,
      "outputs": []
    },
    {
      "cell_type": "code",
      "metadata": {
        "colab": {
          "base_uri": "https://localhost:8080/"
        },
        "id": "8-EI6HPXLwTH",
        "outputId": "9b63e3f2-ef21-41aa-a832-a25ce86ead6a"
      },
      "source": [
        "func2(child1='Joseph',child2='Michel',child3='Meera')"
      ],
      "execution_count": 30,
      "outputs": [
        {
          "output_type": "stream",
          "text": [
            "youngest child is Meera\n"
          ],
          "name": "stdout"
        }
      ]
    },
    {
      "cell_type": "code",
      "metadata": {
        "id": "eTczSJ7YL5DJ"
      },
      "source": [
        "#arbitrary keyword arguments\n",
        "def func3(**names):\n",
        "  print(\"his last name is\",names['lname'])"
      ],
      "execution_count": 31,
      "outputs": []
    },
    {
      "cell_type": "code",
      "metadata": {
        "colab": {
          "base_uri": "https://localhost:8080/"
        },
        "id": "shTA3l0qOjnN",
        "outputId": "68d74a38-274a-4cd9-e7ab-7582c5f2cc6b"
      },
      "source": [
        "func3(fname='Aashutosh',mname='Kumar',lname='Mishra')"
      ],
      "execution_count": 32,
      "outputs": [
        {
          "output_type": "stream",
          "text": [
            "his last name is Mishra\n"
          ],
          "name": "stdout"
        }
      ]
    },
    {
      "cell_type": "code",
      "metadata": {
        "id": "zJzsIx32Oq2a"
      },
      "source": [
        ""
      ],
      "execution_count": null,
      "outputs": []
    }
  ]
}